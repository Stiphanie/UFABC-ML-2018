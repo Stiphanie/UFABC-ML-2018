{
 "cells": [
  {
   "cell_type": "markdown",
   "metadata": {},
   "source": [
    "# Exercícios de Agrupamento de Dados"
   ]
  },
  {
   "cell_type": "markdown",
   "metadata": {},
   "source": [
    "## Introdução\n",
    "\n",
    "Utilizaremos a base de dados `Wine_Quality_Data` já utilizada anteriormente.\n",
    "\n",
    "Utilizaremos as propriedades químicas (tudo menos a qualidade e cor do vinho) para agrupar os vinhos. Apesar de ser um aprendizado não-supervisionado, pode ser interessante contrastar os agrupamentos com as variáveis alvo."
   ]
  },
  {
   "cell_type": "markdown",
   "metadata": {},
   "source": [
    "## Exercício 1\n",
    "\n",
    "* Importe os dados e examine os atributos. \n",
    "* Note que temos variáveis contínua, categórical e binária. \n",
    "* Quantas amostras temos para as duas cores e para os diferentes valores de qualidade? \n",
    "* Faça um histograma da qualidade para cada cor de vinho."
   ]
  },
  {
   "cell_type": "code",
   "execution_count": 2,
   "metadata": {
    "ExecuteTime": {
     "end_time": "2017-03-20T12:10:48.585240Z",
     "start_time": "2017-03-20T08:10:48.548076-04:00"
    }
   },
   "outputs": [
    {
     "name": "stdout",
     "output_type": "stream",
     "text": [
      "      fixed_acidity  volatile_acidity  citric_acid  residual_sugar  chlorides  \\\n",
      "0               7.4             0.700         0.00            1.90      0.076   \n",
      "1               7.8             0.880         0.00            2.60      0.098   \n",
      "2               7.8             0.760         0.04            2.30      0.092   \n",
      "3              11.2             0.280         0.56            1.90      0.075   \n",
      "4               7.4             0.700         0.00            1.90      0.076   \n",
      "5               7.4             0.660         0.00            1.80      0.075   \n",
      "6               7.9             0.600         0.06            1.60      0.069   \n",
      "7               7.3             0.650         0.00            1.20      0.065   \n",
      "8               7.8             0.580         0.02            2.00      0.073   \n",
      "9               7.5             0.500         0.36            6.10      0.071   \n",
      "10              6.7             0.580         0.08            1.80      0.097   \n",
      "11              7.5             0.500         0.36            6.10      0.071   \n",
      "12              5.6             0.615         0.00            1.60      0.089   \n",
      "13              7.8             0.610         0.29            1.60      0.114   \n",
      "14              8.9             0.620         0.18            3.80      0.176   \n",
      "15              8.9             0.620         0.19            3.90      0.170   \n",
      "16              8.5             0.280         0.56            1.80      0.092   \n",
      "17              8.1             0.560         0.28            1.70      0.368   \n",
      "18              7.4             0.590         0.08            4.40      0.086   \n",
      "19              7.9             0.320         0.51            1.80      0.341   \n",
      "20              8.9             0.220         0.48            1.80      0.077   \n",
      "21              7.6             0.390         0.31            2.30      0.082   \n",
      "22              7.9             0.430         0.21            1.60      0.106   \n",
      "23              8.5             0.490         0.11            2.30      0.084   \n",
      "24              6.9             0.400         0.14            2.40      0.085   \n",
      "25              6.3             0.390         0.16            1.40      0.080   \n",
      "26              7.6             0.410         0.24            1.80      0.080   \n",
      "27              7.9             0.430         0.21            1.60      0.106   \n",
      "28              7.1             0.710         0.00            1.90      0.080   \n",
      "29              7.8             0.645         0.00            2.00      0.082   \n",
      "...             ...               ...          ...             ...        ...   \n",
      "6467            5.8             0.230         0.31            4.50      0.046   \n",
      "6468            6.6             0.240         0.33           10.10      0.032   \n",
      "6469            6.1             0.320         0.28            6.60      0.021   \n",
      "6470            5.0             0.200         0.40            1.90      0.015   \n",
      "6471            6.0             0.420         0.41           12.40      0.032   \n",
      "6472            5.7             0.210         0.32            1.60      0.030   \n",
      "6473            5.6             0.200         0.36            2.50      0.048   \n",
      "6474            7.4             0.220         0.26            1.20      0.035   \n",
      "6475            6.2             0.380         0.42            2.50      0.038   \n",
      "6476            5.9             0.540         0.00            0.80      0.032   \n",
      "6477            6.2             0.530         0.02            0.90      0.035   \n",
      "6478            6.6             0.340         0.40            8.10      0.046   \n",
      "6479            6.6             0.340         0.40            8.10      0.046   \n",
      "6480            5.0             0.235         0.27           11.75      0.030   \n",
      "6481            5.5             0.320         0.13            1.30      0.037   \n",
      "6482            4.9             0.470         0.17            1.90      0.035   \n",
      "6483            6.5             0.330         0.38            8.30      0.048   \n",
      "6484            6.6             0.340         0.40            8.10      0.046   \n",
      "6485            6.2             0.210         0.28            5.70      0.028   \n",
      "6486            6.2             0.410         0.22            1.90      0.023   \n",
      "6487            6.8             0.220         0.36            1.20      0.052   \n",
      "6488            4.9             0.235         0.27           11.75      0.030   \n",
      "6489            6.1             0.340         0.29            2.20      0.036   \n",
      "6490            5.7             0.210         0.32            0.90      0.038   \n",
      "6491            6.5             0.230         0.38            1.30      0.032   \n",
      "6492            6.2             0.210         0.29            1.60      0.039   \n",
      "6493            6.6             0.320         0.36            8.00      0.047   \n",
      "6494            6.5             0.240         0.19            1.20      0.041   \n",
      "6495            5.5             0.290         0.30            1.10      0.022   \n",
      "6496            6.0             0.210         0.38            0.80      0.020   \n",
      "\n",
      "      free_sulfur_dioxide  total_sulfur_dioxide  density    pH  sulphates  \\\n",
      "0                    11.0                  34.0  0.99780  3.51       0.56   \n",
      "1                    25.0                  67.0  0.99680  3.20       0.68   \n",
      "2                    15.0                  54.0  0.99700  3.26       0.65   \n",
      "3                    17.0                  60.0  0.99800  3.16       0.58   \n",
      "4                    11.0                  34.0  0.99780  3.51       0.56   \n",
      "5                    13.0                  40.0  0.99780  3.51       0.56   \n",
      "6                    15.0                  59.0  0.99640  3.30       0.46   \n",
      "7                    15.0                  21.0  0.99460  3.39       0.47   \n",
      "8                     9.0                  18.0  0.99680  3.36       0.57   \n",
      "9                    17.0                 102.0  0.99780  3.35       0.80   \n",
      "10                   15.0                  65.0  0.99590  3.28       0.54   \n",
      "11                   17.0                 102.0  0.99780  3.35       0.80   \n",
      "12                   16.0                  59.0  0.99430  3.58       0.52   \n",
      "13                    9.0                  29.0  0.99740  3.26       1.56   \n",
      "14                   52.0                 145.0  0.99860  3.16       0.88   \n",
      "15                   51.0                 148.0  0.99860  3.17       0.93   \n",
      "16                   35.0                 103.0  0.99690  3.30       0.75   \n",
      "17                   16.0                  56.0  0.99680  3.11       1.28   \n",
      "18                    6.0                  29.0  0.99740  3.38       0.50   \n",
      "19                   17.0                  56.0  0.99690  3.04       1.08   \n",
      "20                   29.0                  60.0  0.99680  3.39       0.53   \n",
      "21                   23.0                  71.0  0.99820  3.52       0.65   \n",
      "22                   10.0                  37.0  0.99660  3.17       0.91   \n",
      "23                    9.0                  67.0  0.99680  3.17       0.53   \n",
      "24                   21.0                  40.0  0.99680  3.43       0.63   \n",
      "25                   11.0                  23.0  0.99550  3.34       0.56   \n",
      "26                    4.0                  11.0  0.99620  3.28       0.59   \n",
      "27                   10.0                  37.0  0.99660  3.17       0.91   \n",
      "28                   14.0                  35.0  0.99720  3.47       0.55   \n",
      "29                    8.0                  16.0  0.99640  3.38       0.59   \n",
      "...                   ...                   ...      ...   ...        ...   \n",
      "6467                 42.0                 124.0  0.99324  3.31       0.64   \n",
      "6468                  8.0                  81.0  0.99626  3.19       0.51   \n",
      "6469                 29.0                 132.0  0.99188  3.15       0.36   \n",
      "6470                 20.0                  98.0  0.98970  3.37       0.55   \n",
      "6471                 50.0                 179.0  0.99622  3.14       0.60   \n",
      "6472                 33.0                 122.0  0.99044  3.33       0.52   \n",
      "6473                 16.0                 125.0  0.99282  3.49       0.49   \n",
      "6474                 18.0                  97.0  0.99245  3.12       0.41   \n",
      "6475                 34.0                 117.0  0.99132  3.36       0.59   \n",
      "6476                 12.0                  82.0  0.99286  3.25       0.36   \n",
      "6477                  6.0                  81.0  0.99234  3.24       0.35   \n",
      "6478                 68.0                 170.0  0.99494  3.15       0.50   \n",
      "6479                 68.0                 170.0  0.99494  3.15       0.50   \n",
      "6480                 34.0                 118.0  0.99540  3.07       0.50   \n",
      "6481                 45.0                 156.0  0.99184  3.26       0.38   \n",
      "6482                 60.0                 148.0  0.98964  3.27       0.35   \n",
      "6483                 68.0                 174.0  0.99492  3.14       0.50   \n",
      "6484                 68.0                 170.0  0.99494  3.15       0.50   \n",
      "6485                 45.0                 121.0  0.99168  3.21       1.08   \n",
      "6486                  5.0                  56.0  0.98928  3.04       0.79   \n",
      "6487                 38.0                 127.0  0.99330  3.04       0.54   \n",
      "6488                 34.0                 118.0  0.99540  3.07       0.50   \n",
      "6489                 25.0                 100.0  0.98938  3.06       0.44   \n",
      "6490                 38.0                 121.0  0.99074  3.24       0.46   \n",
      "6491                 29.0                 112.0  0.99298  3.29       0.54   \n",
      "6492                 24.0                  92.0  0.99114  3.27       0.50   \n",
      "6493                 57.0                 168.0  0.99490  3.15       0.46   \n",
      "6494                 30.0                 111.0  0.99254  2.99       0.46   \n",
      "6495                 20.0                 110.0  0.98869  3.34       0.38   \n",
      "6496                 22.0                  98.0  0.98941  3.26       0.32   \n",
      "\n",
      "        alcohol  quality  color  \n",
      "0      9.400000        5    red  \n",
      "1      9.800000        5    red  \n",
      "2      9.800000        5    red  \n",
      "3      9.800000        6    red  \n",
      "4      9.400000        5    red  \n",
      "5      9.400000        5    red  \n",
      "6      9.400000        5    red  \n",
      "7     10.000000        7    red  \n",
      "8      9.500000        7    red  \n",
      "9     10.500000        5    red  \n",
      "10     9.200000        5    red  \n",
      "11    10.500000        5    red  \n",
      "12     9.900000        5    red  \n",
      "13     9.100000        5    red  \n",
      "14     9.200000        5    red  \n",
      "15     9.200000        5    red  \n",
      "16    10.500000        7    red  \n",
      "17     9.300000        5    red  \n",
      "18     9.000000        4    red  \n",
      "19     9.200000        6    red  \n",
      "20     9.400000        6    red  \n",
      "21     9.700000        5    red  \n",
      "22     9.500000        5    red  \n",
      "23     9.400000        5    red  \n",
      "24     9.700000        6    red  \n",
      "25     9.300000        5    red  \n",
      "26     9.500000        5    red  \n",
      "27     9.500000        5    red  \n",
      "28     9.400000        5    red  \n",
      "29     9.800000        6    red  \n",
      "...         ...      ...    ...  \n",
      "6467  10.800000        6  white  \n",
      "6468   9.800000        6  white  \n",
      "6469  11.450000        7  white  \n",
      "6470  12.050000        6  white  \n",
      "6471   9.700000        5  white  \n",
      "6472  11.900000        6  white  \n",
      "6473  10.000000        6  white  \n",
      "6474   9.700000        6  white  \n",
      "6475  11.600000        7  white  \n",
      "6476   8.800000        5  white  \n",
      "6477   9.500000        4  white  \n",
      "6478   9.533333        6  white  \n",
      "6479   9.533333        6  white  \n",
      "6480   9.400000        6  white  \n",
      "6481  10.700000        5  white  \n",
      "6482  11.500000        6  white  \n",
      "6483   9.600000        5  white  \n",
      "6484   9.550000        6  white  \n",
      "6485  12.150000        7  white  \n",
      "6486  13.000000        7  white  \n",
      "6487   9.200000        5  white  \n",
      "6488   9.400000        6  white  \n",
      "6489  11.800000        6  white  \n",
      "6490  10.600000        6  white  \n",
      "6491   9.700000        5  white  \n",
      "6492  11.200000        6  white  \n",
      "6493   9.600000        5  white  \n",
      "6494   9.400000        6  white  \n",
      "6495  12.800000        7  white  \n",
      "6496  11.800000        6  white  \n",
      "\n",
      "[6497 rows x 13 columns]\n"
     ]
    }
   ],
   "source": [
    "import pandas as pd\n",
    "\n",
    "# Import the data\n",
    "filepath = 'C:/Users/StiphanieMaradaSilva/Desktop/PROJETOS/AprendizadoMaquina-master/UFABC-ML-2018/data/Wine_Quality_Data.csv'\n",
    "data = pd.read_csv(filepath)\n",
    "\n",
    "data.head(4).T\n",
    "print(data)"
   ]
  },
  {
   "cell_type": "code",
   "execution_count": 7,
   "metadata": {
    "ExecuteTime": {
     "end_time": "2017-03-20T12:09:58.538878Z",
     "start_time": "2017-03-20T08:09:58.531714-04:00"
    }
   },
   "outputs": [
    {
     "name": "stdout",
     "output_type": "stream",
     "text": [
      "0         red\n",
      "1         red\n",
      "2         red\n",
      "3         red\n",
      "4         red\n",
      "5         red\n",
      "6         red\n",
      "7         red\n",
      "8         red\n",
      "9         red\n",
      "10        red\n",
      "11        red\n",
      "12        red\n",
      "13        red\n",
      "14        red\n",
      "15        red\n",
      "16        red\n",
      "17        red\n",
      "18        red\n",
      "19        red\n",
      "20        red\n",
      "21        red\n",
      "22        red\n",
      "23        red\n",
      "24        red\n",
      "25        red\n",
      "26        red\n",
      "27        red\n",
      "28        red\n",
      "29        red\n",
      "        ...  \n",
      "6467    white\n",
      "6468    white\n",
      "6469    white\n",
      "6470    white\n",
      "6471    white\n",
      "6472    white\n",
      "6473    white\n",
      "6474    white\n",
      "6475    white\n",
      "6476    white\n",
      "6477    white\n",
      "6478    white\n",
      "6479    white\n",
      "6480    white\n",
      "6481    white\n",
      "6482    white\n",
      "6483    white\n",
      "6484    white\n",
      "6485    white\n",
      "6486    white\n",
      "6487    white\n",
      "6488    white\n",
      "6489    white\n",
      "6490    white\n",
      "6491    white\n",
      "6492    white\n",
      "6493    white\n",
      "6494    white\n",
      "6495    white\n",
      "6496    white\n",
      "Name: color, Length: 6497, dtype: object\n"
     ]
    }
   ],
   "source": [
    "data.shape\n",
    "print(data.color)"
   ]
  },
  {
   "cell_type": "markdown",
   "metadata": {},
   "source": [
    "Verifique os tipos dos atributos, note que todos os atributos que trabalharemos são numéricos."
   ]
  },
  {
   "cell_type": "code",
   "execution_count": null,
   "metadata": {
    "ExecuteTime": {
     "end_time": "2017-03-20T12:12:23.585637Z",
     "start_time": "2017-03-20T08:12:23.576416-04:00"
    },
    "collapsed": true
   },
   "outputs": [],
   "source": [
    "data.???"
   ]
  },
  {
   "cell_type": "markdown",
   "metadata": {},
   "source": [
    "Vamos contar quantas entradas para cada cor de vinho."
   ]
  },
  {
   "cell_type": "code",
   "execution_count": null,
   "metadata": {
    "ExecuteTime": {
     "end_time": "2017-03-20T12:10:32.347631Z",
     "start_time": "2017-03-20T08:10:32.337545-04:00"
    },
    "collapsed": true
   },
   "outputs": [],
   "source": [
    "data.???"
   ]
  },
  {
   "cell_type": "markdown",
   "metadata": {},
   "source": [
    "E as entradas da qualidade."
   ]
  },
  {
   "cell_type": "code",
   "execution_count": null,
   "metadata": {
    "ExecuteTime": {
     "end_time": "2017-03-20T13:00:49.509254Z",
     "start_time": "2017-03-20T09:00:49.495394-04:00"
    },
    "collapsed": true
   },
   "outputs": [],
   "source": [
    "data.???"
   ]
  },
  {
   "cell_type": "markdown",
   "metadata": {},
   "source": [
    "Agora plotaremos o histograma:"
   ]
  },
  {
   "cell_type": "code",
   "execution_count": null,
   "metadata": {
    "collapsed": true
   },
   "outputs": [],
   "source": [
    "import matplotlib.pyplot as plt\n",
    "import seaborn as sns\n",
    "import numpy as np\n",
    "\n",
    "%matplotlib inline"
   ]
  },
  {
   "cell_type": "code",
   "execution_count": null,
   "metadata": {
    "ExecuteTime": {
     "end_time": "2017-03-20T13:05:20.809064Z",
     "start_time": "2017-03-20T09:05:20.584910-04:00"
    },
    "collapsed": true
   },
   "outputs": [],
   "source": [
    "# seaborn styles\n",
    "sns.set_context('notebook')\n",
    "sns.set_style('white')\n",
    "sns.set_palette('dark')\n",
    "\n",
    "# custom colors\n",
    "red = sns.color_palette()[2]\n",
    "white = 'gray'\n",
    "\n",
    "# set bins for histogram\n",
    "bin_range = np.array([3, 4, 5, 6, 7, 8, 9])\n",
    "\n",
    "# plot histogram of quality counts for red and white wines\n",
    "ax = plt.axes()\n",
    "for color, plot_color in zip(['red', 'white'], [red, white]):\n",
    "    q_data = data.loc[data.color==color, 'quality']\n",
    "    q_data.hist(bins=bin_range, \n",
    "                alpha=0.5, ax=ax, \n",
    "                color=plot_color, label=color)\n",
    "    \n",
    "\n",
    "ax.legend()\n",
    "ax.set(xlabel='Quality', ylabel='Occurrence')\n",
    "\n",
    "# force tick labels to be in middle of region\n",
    "ax.set_xlim(3,10)\n",
    "ax.set_xticks(bin_range+0.5)\n",
    "ax.set_xticklabels(bin_range);\n",
    "ax.grid('off')\n"
   ]
  },
  {
   "cell_type": "markdown",
   "metadata": {},
   "source": [
    "## Exercício 2\n",
    "\n",
    "* Vamos verificar a correlação e viés das variáveis (exceto para as variáveis alvo).\n",
    "* Aplique a transformação ou escala apropriada.\n",
    "* Examine a distribuição par a par das variáveis com pairplots para verificar escala e normalização.\n"
   ]
  },
  {
   "cell_type": "code",
   "execution_count": null,
   "metadata": {
    "collapsed": true
   },
   "outputs": [],
   "source": [
    "float_columns = [x for x in data.columns if x not in ['color', 'quality']]\n",
    "\n",
    "# Use o método que gera a matriz de correlação\n",
    "corr_mat = data[float_columns].???\n",
    "\n",
    "# Deixe os elementos da diagonal como 0.0\n",
    "for x in range(len(float_columns)):\n",
    "    corr_mat.iloc[x,x] = ???\n",
    "    \n",
    "corr_mat"
   ]
  },
  {
   "cell_type": "code",
   "execution_count": null,
   "metadata": {
    "collapsed": true
   },
   "outputs": [],
   "source": [
    "# Aplique o método da função absoluta e que retorna o id com máxima correlação\n",
    "corr_mat.???.???"
   ]
  },
  {
   "cell_type": "markdown",
   "metadata": {},
   "source": [
    "Vamos examinar o viés:"
   ]
  },
  {
   "cell_type": "code",
   "execution_count": null,
   "metadata": {
    "collapsed": true
   },
   "outputs": [],
   "source": [
    "skew_columns = (data[float_columns]\n",
    "                .skew()\n",
    "                .sort_values(ascending=False))\n",
    "\n",
    "skew_columns = skew_columns.loc[skew_columns > 0.75]\n",
    "skew_columns"
   ]
  },
  {
   "cell_type": "code",
   "execution_count": null,
   "metadata": {
    "collapsed": true
   },
   "outputs": [],
   "source": [
    "# Que função aplicamos nesse caso?\n",
    "for col in skew_columns.index.tolist():\n",
    "    data[col] = ???(data[col])\n"
   ]
  },
  {
   "cell_type": "markdown",
   "metadata": {},
   "source": [
    "Vamos escalonar os atributos:"
   ]
  },
  {
   "cell_type": "code",
   "execution_count": null,
   "metadata": {
    "collapsed": true
   },
   "outputs": [],
   "source": [
    "from sklearn.preprocessing import StandardScaler\n",
    "\n",
    "sc = StandardScaler()\n",
    "data[float_columns] = sc.fit_transform(???)\n",
    "\n",
    "data.head(4)"
   ]
  },
  {
   "cell_type": "markdown",
   "metadata": {},
   "source": [
    "Agora vamos verificar o pairplot dos atributos:"
   ]
  },
  {
   "cell_type": "code",
   "execution_count": null,
   "metadata": {
    "collapsed": true
   },
   "outputs": [],
   "source": [
    "sns.set_context('notebook')\n",
    "sns.pairplot(data[float_columns + ['color']], \n",
    "             hue='color', \n",
    "             hue_order=['white', 'red'],\n",
    "             palette={'red':red, 'white':'gray'});"
   ]
  },
  {
   "cell_type": "markdown",
   "metadata": {},
   "source": [
    "## Exercício 3\n",
    "\n",
    "* Aplique o K-means com dois clusters.\n",
    "* Examine os clusters pela cor do vinho."
   ]
  },
  {
   "cell_type": "code",
   "execution_count": null,
   "metadata": {
    "ExecuteTime": {
     "end_time": "2017-03-20T01:59:09.017663Z",
     "start_time": "2017-03-19T21:59:08.896993-04:00"
    },
    "collapsed": true
   },
   "outputs": [],
   "source": [
    "from sklearn.cluster import KMeans\n",
    "\n",
    "km = KMeans(n_clusters=???, random_state=42)\n",
    "km = km.fit(???)\n",
    "\n",
    "data['kmeans'] = km.predict(???)"
   ]
  },
  {
   "cell_type": "code",
   "execution_count": null,
   "metadata": {
    "ExecuteTime": {
     "end_time": "2017-03-20T01:59:09.332043Z",
     "start_time": "2017-03-19T21:59:09.315410-04:00"
    },
    "collapsed": true
   },
   "outputs": [],
   "source": [
    "(data[['color','kmeans']]\n",
    " .groupby(['color','kmeans'])\n",
    " .size()\n",
    " .to_frame()\n",
    " .rename(columns={0:'number'}))"
   ]
  },
  {
   "cell_type": "markdown",
   "metadata": {},
   "source": [
    "## Exercício 4\n",
    "\n",
    "* Agora aplique o K-Means para valores de k de 1 a 20.\n",
    "* Para cada modelo, armazene o número de clusters e o valor da inércia.\n",
    "* Plote a relação e verifique qual o valor ideal de k.\n",
    "\n",
    "A inércia é a soma das distâncias dos pontos aos centros, quanto menor esse valor, aparentemente melhor. Mas sempre será melhor?"
   ]
  },
  {
   "cell_type": "code",
   "execution_count": null,
   "metadata": {
    "ExecuteTime": {
     "end_time": "2017-03-20T01:59:21.588328Z",
     "start_time": "2017-03-19T21:59:12.450288-04:00"
    },
    "collapsed": true
   },
   "outputs": [],
   "source": [
    "# Create and fit a range of models\n",
    "km_list = list()\n",
    "\n",
    "for clust in range(1,21):\n",
    "    km = KMeans(n_clusters=???, random_state=42)\n",
    "    km = km.fit(???)\n",
    "    \n",
    "    km_list.append(pd.Series({'clusters': clust, \n",
    "                              'inertia': km.inertia_,\n",
    "                              'model': km}))"
   ]
  },
  {
   "cell_type": "code",
   "execution_count": null,
   "metadata": {
    "ExecuteTime": {
     "end_time": "2017-03-20T01:59:21.775524Z",
     "start_time": "2017-03-19T21:59:21.589747-04:00"
    },
    "collapsed": true
   },
   "outputs": [],
   "source": [
    "plot_data = (pd.concat(km_list, axis=1)\n",
    "             .T\n",
    "             [['clusters','inertia']]\n",
    "             .set_index('clusters'))\n",
    "\n",
    "ax = plot_data.plot(marker='o',ls='-')\n",
    "ax.set_xticks(range(0,21,2))\n",
    "ax.set_xlim(0,21)\n",
    "ax.set(xlabel='Cluster', ylabel='Inertia');"
   ]
  },
  {
   "cell_type": "markdown",
   "metadata": {},
   "source": [
    "## Exercício 5\n",
    "\n",
    "* Vamos aplicar um agrupamento hierárquico com dois clusters.\n",
    "* Compare os resultados obtidos pelo K-means com relação a cor de vinho.\n",
    "* Iremos criar um dendrograma do agrupamento produzido utilizando o módulo [`cluster.hierarchy`](https://docs.scipy.org/doc/scipy/reference/cluster.hierarchy.html#module-scipy.cluster.hierarchy) da biblioteca  SciPy."
   ]
  },
  {
   "cell_type": "code",
   "execution_count": null,
   "metadata": {
    "ExecuteTime": {
     "end_time": "2017-03-20T11:30:31.254165Z",
     "start_time": "2017-03-20T07:30:27.894864-04:00"
    },
    "collapsed": true
   },
   "outputs": [],
   "source": [
    "from sklearn.cluster import AgglomerativeClustering\n",
    "\n",
    "ag = AgglomerativeClustering(n_clusters=???, linkage='ward', compute_full_tree=True)\n",
    "ag = ag.fit(???)\n",
    "data['agglom'] = ag.fit_predict(???)"
   ]
  },
  {
   "cell_type": "markdown",
   "metadata": {},
   "source": [
    "Note que a atribuição do índice de clusters é arbitrária, não necessariamente corresponde ao mesmo obtido pelo K-Means."
   ]
  },
  {
   "cell_type": "code",
   "execution_count": null,
   "metadata": {
    "ExecuteTime": {
     "end_time": "2017-03-20T11:46:08.938224Z",
     "start_time": "2017-03-20T07:46:08.924114-04:00"
    },
    "collapsed": true
   },
   "outputs": [],
   "source": [
    "(data[['color','agglom','kmeans']]\n",
    " .groupby(['color','agglom','kmeans'])\n",
    " .size()\n",
    " .to_frame()\n",
    " .rename(columns={0:'number'}))"
   ]
  },
  {
   "cell_type": "markdown",
   "metadata": {},
   "source": [
    "Agora vamos plotar o dendrograma obtido."
   ]
  },
  {
   "cell_type": "code",
   "execution_count": null,
   "metadata": {
    "ExecuteTime": {
     "end_time": "2017-03-20T11:53:03.838928Z",
     "start_time": "2017-03-20T07:53:02.088506-04:00"
    },
    "collapsed": true
   },
   "outputs": [],
   "source": [
    "from scipy.cluster import hierarchy\n",
    "from matplotlib import colors\n",
    "\n",
    "Z = hierarchy.linkage(ag.children_, method='ward')\n",
    "\n",
    "fig, ax = plt.subplots(figsize=(15,5))\n",
    "\n",
    "# Some color customization\n",
    "dark_palette = sns.color_palette()\n",
    "red = colors.to_hex(dark_palette[2])\n",
    "blue = colors.to_hex(dark_palette[0])\n",
    "\n",
    "hierarchy.set_link_color_palette([red, 'gray'])\n",
    "\n",
    "den = hierarchy.dendrogram(Z, orientation='top', \n",
    "                           p=30, truncate_mode='lastp',\n",
    "                           show_leaf_counts=True, ax=ax,\n",
    "                           above_threshold_color=blue)"
   ]
  },
  {
   "cell_type": "markdown",
   "metadata": {
    "collapsed": true
   },
   "source": [
    "## Exercício 6\n",
    "\n",
    "Nesse exercício vamos explorar o uso de agrupamento de dados como uma criação de atributos.\n",
    "\n",
    "* Crie um atributo **binário** chamado `y`, cujo valor é 0 se a qualidade do vinho for menor ou igual a 7 e 1 caso contrário.\n",
    "* Crie uma variável chamada `X_with_kmeans` extraído de `data`, fazendo drop das colunas \"quality\", \"color\" e \"agglom\" da nossa base de dados. Crie `X_without_kmeans` fazendo drop também da coluna \"kmeans\".\n",
    "* Para as duas bases, use `StratifiedShuffleSplit` com 10 splits, e aplique Regressão Logística medindo o roc-auc scores.\n",
    "* Compare a média para a base com kmeans e sem kmeans."
   ]
  },
  {
   "cell_type": "code",
   "execution_count": null,
   "metadata": {
    "collapsed": true
   },
   "outputs": [],
   "source": [
    "from sklearn.linear_model import LogisticRegression\n",
    "from sklearn.metrics import roc_auc_score\n",
    "from sklearn.model_selection import StratifiedShuffleSplit\n",
    "\n",
    "\n",
    "y = ???\n",
    "X_with_kmeans = data.drop(['agglom', 'color', 'quality'], axis=1)\n",
    "X_without_kmeans = X_with_kmeans.drop('kmeans', axis=1)\n",
    "sss = StratifiedShuffleSplit(n_splits=???, random_state=6532)\n",
    "\n",
    "\n",
    "def get_avg_roc_10splits(estimator, X, y):\n",
    "    roc_auc_list = []\n",
    "    for train_index, test_index in sss.split(X, y):\n",
    "        X_train, X_test = X.iloc[train_index], X.iloc[test_index]\n",
    "        y_train, y_test = y.iloc[train_index], y.iloc[test_index]\n",
    "        \n",
    "        estimator.fit(???)        \n",
    "        y_scored = estimator.predict_proba(???)[:, 1]\n",
    "        roc_auc_list.append(roc_auc_score(y_test, y_scored))\n",
    "    return np.mean(roc_auc_list)\n",
    "\n",
    "estimator = LogisticRegression()\n",
    "roc_with_kmeans = get_avg_roc_10splits(estimator, X_with_kmeans, y)\n",
    "roc_without_kmeans = get_avg_roc_10splits(estimator, X_without_kmeans, y)\n",
    "print(\"Sem kmeans - roc-auc = \\\"{0}\\\"\".format(roc_without_kmeans))\n",
    "print(\"Com kmeans - roc-auc = \\\"{0}\\\"\".format(roc_with_kmeans))\n"
   ]
  },
  {
   "cell_type": "markdown",
   "metadata": {},
   "source": [
    "Vamos verificar se o número de clusters afeta o desempenho do algoritmo:\n",
    "\n",
    "* Vamos criar uma função `create_kmeans_columns` que cria uma base de dados com o atributo proveniente do kmeans aplicado com um certo k.\n",
    "* Repetiremos o experimento anterior para k=1..20"
   ]
  },
  {
   "cell_type": "code",
   "execution_count": null,
   "metadata": {
    "collapsed": true
   },
   "outputs": [],
   "source": [
    "from sklearn.linear_model import LogisticRegression\n",
    "\n",
    "X_basis = data[float_columns]\n",
    "sss = StratifiedShuffleSplit(n_splits=10, random_state=6532)\n",
    "\n",
    "\n",
    "def create_kmeans_columns(k):\n",
    "    km = KMeans(n_clusters=???)\n",
    "    km.fit(???)\n",
    "    km_col = pd.Series(km.predict(???))\n",
    "    km_cols = pd.get_dummies(km_col, prefix='kmeans_cluster')\n",
    "    return pd.concat([X_basis, km_cols], axis=1)\n",
    "\n",
    "\n",
    "estimator = LogisticRegression()\n",
    "ns = range(1, 21)\n",
    "roc_auc_list = [get_avg_roc_10splits(estimator, create_kmeans_columns(n), y)\n",
    "                for n in ns]\n",
    "\n",
    "\n",
    "# seaborn styles\n",
    "sns.set_context('notebook')\n",
    "sns.set_style('white')\n",
    "sns.set_palette('dark')\n",
    "\n",
    "ax = plt.axes()\n",
    "ax.plot(ns, roc_auc_list)\n",
    "ax.set(\n",
    "    xticklabels= ns,\n",
    "    xlabel='number of clusters as features',\n",
    "    ylabel='average roc-auc over 10 iterations',\n",
    "    title='KMeans + LogisticRegression'\n",
    ")\n",
    "ax.grid(True)"
   ]
  },
  {
   "cell_type": "code",
   "execution_count": null,
   "metadata": {
    "collapsed": true
   },
   "outputs": [],
   "source": []
  }
 ],
 "metadata": {
  "kernelspec": {
   "display_name": "Python 3",
   "language": "python",
   "name": "python3"
  },
  "language_info": {
   "codemirror_mode": {
    "name": "ipython",
    "version": 3
   },
   "file_extension": ".py",
   "mimetype": "text/x-python",
   "name": "python",
   "nbconvert_exporter": "python",
   "pygments_lexer": "ipython3",
   "version": "3.6.3"
  }
 },
 "nbformat": 4,
 "nbformat_minor": 2
}
