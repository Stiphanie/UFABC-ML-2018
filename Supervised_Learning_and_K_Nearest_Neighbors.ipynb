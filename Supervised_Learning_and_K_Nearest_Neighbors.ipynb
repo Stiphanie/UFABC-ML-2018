{
 "cells": [
  {
   "cell_type": "markdown",
   "metadata": {},
   "source": [
    "# Aprendizado Supervisionado e K Vizinhos mais Próximos"
   ]
  },
  {
   "cell_type": "markdown",
   "metadata": {},
   "source": [
    "## Introdução\n",
    "\n",
    "Nós utilizaremos a base de dados de taxa de rejeição da indústria de telecomunicações para essa lista de exercícios. A base de dados tem o nome `Orange_Telecom_Churn_Data.csv`. Nesse notebook carregaremos a base de dados, faremos algum pré-processamento e usaremos a técnica k-NN para predizer a taxa de rejeição baseado nas características mensuradas."
   ]
  },
  {
   "cell_type": "markdown",
   "metadata": {},
   "source": [
    "## Exercício 1\n",
    "\n",
    "* Comece importando os dados através do pandas. Examine as colunas e os dados\n",
    "* Note que os dados contêm estado, código de área e telefone. Você acha que esses atributos são interessantes para construir nosso modelo de classificação? Por que?\n",
    "\n",
    "Não utilizaremos esses atributos para essa base, então eles podem ser removidos do dataframe (método `drop`)."
   ]
  },
  {
   "cell_type": "code",
   "execution_count": 15,
   "metadata": {},
   "outputs": [
    {
     "name": "stdout",
     "output_type": "stream",
     "text": [
      "<class 'pandas.core.frame.DataFrame'>\n",
      "RangeIndex: 5000 entries, 0 to 4999\n",
      "Data columns (total 21 columns):\n",
      "state                            5000 non-null object\n",
      "account_length                   5000 non-null int64\n",
      "area_code                        5000 non-null int64\n",
      "phone_number                     5000 non-null object\n",
      "intl_plan                        5000 non-null object\n",
      "voice_mail_plan                  5000 non-null object\n",
      "number_vmail_messages            5000 non-null int64\n",
      "total_day_minutes                5000 non-null float64\n",
      "total_day_calls                  5000 non-null int64\n",
      "total_day_charge                 5000 non-null float64\n",
      "total_eve_minutes                5000 non-null float64\n",
      "total_eve_calls                  5000 non-null int64\n",
      "total_eve_charge                 5000 non-null float64\n",
      "total_night_minutes              5000 non-null float64\n",
      "total_night_calls                5000 non-null int64\n",
      "total_night_charge               5000 non-null float64\n",
      "total_intl_minutes               5000 non-null float64\n",
      "total_intl_calls                 5000 non-null int64\n",
      "total_intl_charge                5000 non-null float64\n",
      "number_customer_service_calls    5000 non-null int64\n",
      "churned                          5000 non-null bool\n",
      "dtypes: bool(1), float64(8), int64(8), object(4)\n",
      "memory usage: 786.2+ KB\n",
      "None\n",
      "0       False\n",
      "1       False\n",
      "2       False\n",
      "3       False\n",
      "4       False\n",
      "5       False\n",
      "6       False\n",
      "7       False\n",
      "8       False\n",
      "9       False\n",
      "10       True\n",
      "11      False\n",
      "12      False\n",
      "13      False\n",
      "14      False\n",
      "15       True\n",
      "16      False\n",
      "17      False\n",
      "18      False\n",
      "19      False\n",
      "20      False\n",
      "21       True\n",
      "22      False\n",
      "23      False\n",
      "24      False\n",
      "25      False\n",
      "26      False\n",
      "27      False\n",
      "28      False\n",
      "29      False\n",
      "        ...  \n",
      "4970    False\n",
      "4971    False\n",
      "4972    False\n",
      "4973    False\n",
      "4974    False\n",
      "4975    False\n",
      "4976    False\n",
      "4977    False\n",
      "4978    False\n",
      "4979    False\n",
      "4980     True\n",
      "4981    False\n",
      "4982    False\n",
      "4983    False\n",
      "4984    False\n",
      "4985    False\n",
      "4986    False\n",
      "4987    False\n",
      "4988    False\n",
      "4989    False\n",
      "4990     True\n",
      "4991     True\n",
      "4992    False\n",
      "4993    False\n",
      "4994    False\n",
      "4995    False\n",
      "4996     True\n",
      "4997    False\n",
      "4998    False\n",
      "4999    False\n",
      "Name: churned, Length: 5000, dtype: bool\n"
     ]
    }
   ],
   "source": [
    "import pandas as pd\n",
    "\n",
    "arquivo = 'C:/Users/StiphanieMaradaSilva/Desktop/PROJETOS/AprendizadoMaquina-master/UFABC-ML-2018/data/Orange_Telecom_Churn_Data.csv'\n",
    "data = pd.read_csv(arquivo)\n",
    "print(data.info())\n",
    "data = data.drop(['state','area_code','phone_number'],axis=1)\n",
    "print(data['churned'].value_counts())\n",
    "\n",
    "#X_std = (X - X.min(axis=0)) / (X.max(axis=0) - X.min(axis=0))\n",
    "#X_scaled = X_std * (max - min) + min"
   ]
  },
  {
   "cell_type": "markdown",
   "metadata": {},
   "source": [
    "## Exercício 2\n",
    "\n",
    "* Note que algumas das colunas são categóricas e algumas são *float*. Esses atributos precisam ser numéricos para usar os algoritmos que aprenderemos no curso.\n",
    "* Finalmente, o algoritmo K-Vizinhos mais próximos necessita de dados escalonados. Escalone os dados utilizando um dos métodos aprendidos em aula."
   ]
  },
  {
   "cell_type": "code",
   "execution_count": 26,
   "metadata": {},
   "outputs": [
    {
     "name": "stdout",
     "output_type": "stream",
     "text": [
      "{'account_length': array([[ 0.52479339],\n",
      "       [ 0.43801653],\n",
      "       [ 0.56198347],\n",
      "       ..., \n",
      "       [ 0.24793388],\n",
      "       [ 0.44628099],\n",
      "       [ 0.35123967]]), 'intl_plan': array([[0],\n",
      "       [0],\n",
      "       [0],\n",
      "       ..., \n",
      "       [0],\n",
      "       [0],\n",
      "       [0]]), 'voice_mail_plan': array([[1],\n",
      "       [1],\n",
      "       [0],\n",
      "       ..., \n",
      "       [0],\n",
      "       [0],\n",
      "       [1]]), 'number_vmail_messages': array([[ 0.48076923],\n",
      "       [ 0.5       ],\n",
      "       [ 0.        ],\n",
      "       ..., \n",
      "       [ 0.        ],\n",
      "       [ 0.        ],\n",
      "       [ 0.65384615]]), 'total_day_minutes': array([[ 0.7541963 ],\n",
      "       [ 0.45974395],\n",
      "       [ 0.69246088],\n",
      "       ..., \n",
      "       [ 0.4       ],\n",
      "       [ 0.5371266 ],\n",
      "       [ 0.36813656]]), 'total_day_calls': array([[ 0.66666667],\n",
      "       [ 0.74545455],\n",
      "       [ 0.69090909],\n",
      "       ..., \n",
      "       [ 0.53939394],\n",
      "       [ 0.40606061],\n",
      "       [ 0.61818182]]), 'total_day_charge': array([[ 0.7541834 ],\n",
      "       [ 0.45967202],\n",
      "       [ 0.69243641],\n",
      "       ..., \n",
      "       [ 0.39993307],\n",
      "       [ 0.53714859],\n",
      "       [ 0.36813922]]), 'total_eve_minutes': array([[ 0.54275502],\n",
      "       [ 0.53753093],\n",
      "       [ 0.33324168],\n",
      "       ..., \n",
      "       [ 0.47511685],\n",
      "       [ 0.47209238],\n",
      "       [ 0.73439648]]), 'total_eve_calls': array([[ 0.58235294],\n",
      "       [ 0.60588235],\n",
      "       [ 0.64705882],\n",
      "       ..., \n",
      "       [ 0.75294118],\n",
      "       [ 0.54117647],\n",
      "       [ 0.61176471]]), 'total_eve_charge': array([[ 0.54286639],\n",
      "       [ 0.53769007],\n",
      "       [ 0.33322549],\n",
      "       ..., \n",
      "       [ 0.47525073],\n",
      "       [ 0.47201553],\n",
      "       [ 0.73439016]]), 'total_night_minutes': array([[ 0.61949367],\n",
      "       [ 0.64405063],\n",
      "       [ 0.41164557],\n",
      "       ..., \n",
      "       [ 0.53772152],\n",
      "       [ 0.56810127],\n",
      "       [ 0.39189873]]), 'total_night_calls': array([[ 0.52      ],\n",
      "       [ 0.58857143],\n",
      "       [ 0.59428571],\n",
      "       ..., \n",
      "       [ 0.55428571],\n",
      "       [ 0.50857143],\n",
      "       [ 0.57142857]]), 'total_night_charge': array([[ 0.61958357],\n",
      "       [ 0.6443444 ],\n",
      "       [ 0.41193022],\n",
      "       ..., \n",
      "       [ 0.53798537],\n",
      "       [ 0.56837366],\n",
      "       [ 0.3922341 ]]), 'total_intl_minutes': array([[ 0.5  ],\n",
      "       [ 0.685],\n",
      "       [ 0.61 ],\n",
      "       ..., \n",
      "       [ 0.68 ],\n",
      "       [ 0.425],\n",
      "       [ 0.465]]), 'total_intl_calls': array([[ 0.15],\n",
      "       [ 0.15],\n",
      "       [ 0.25],\n",
      "       ..., \n",
      "       [ 0.2 ],\n",
      "       [ 0.3 ],\n",
      "       [ 0.8 ]]), 'total_intl_charge': array([[ 0.5       ],\n",
      "       [ 0.68518519],\n",
      "       [ 0.60925926],\n",
      "       ..., \n",
      "       [ 0.67962963],\n",
      "       [ 0.42592593],\n",
      "       [ 0.46481481]]), 'number_customer_service_calls': array([[ 0.11111111],\n",
      "       [ 0.11111111],\n",
      "       [ 0.        ],\n",
      "       ..., \n",
      "       [ 0.11111111],\n",
      "       [ 0.        ],\n",
      "       [ 0.        ]]), 'churned': array([[0],\n",
      "       [0],\n",
      "       [0],\n",
      "       ..., \n",
      "       [0],\n",
      "       [0],\n",
      "       [0]])}\n"
     ]
    }
   ],
   "source": [
    "import warnings\n",
    "warnings.filterwarnings('ignore', module='sklearn')\n",
    "\n",
    "from sklearn.preprocessing import MinMaxScaler, LabelBinarizer\n",
    "data_array = {}\n",
    "\n",
    "bin_cols = ['intl_plan', 'voice_mail_plan', 'churned']\n",
    "for col in data.columns:\n",
    "    if col in bin_cols:\n",
    "        obj = LabelBinarizer()\n",
    "    else:\n",
    "        obj = MinMaxScaler()\n",
    "    d = obj.fit_transform(data[[col]])\n",
    "    data_array[col] = d\n",
    "\n",
    "print(data_array)"
   ]
  },
  {
   "cell_type": "markdown",
   "metadata": {},
   "source": [
    "## Exercício 3\n",
    "\n",
    "* Separe as colunas de atributos (todas menos `churned`) da  coluna de rótulo (`churned`). Isso criará duas tabelas.\n",
    "* Aplique o método `.fit()` do K-nearest neighbors com um valor de `n_neighbors=3` para essa base de dados e verifique o resultado com o método `.predict()` na mesma base."
   ]
  },
  {
   "cell_type": "code",
   "execution_count": 46,
   "metadata": {},
   "outputs": [
    {
     "name": "stdout",
     "output_type": "stream",
     "text": [
      "[[ 0.52479339  0.43801653  0.56198347 ...,  0.24793388  0.44628099\n",
      "   0.35123967]\n",
      " [ 0.          0.          0.         ...,  0.          0.          0.        ]\n",
      " [ 1.          1.          0.         ...,  0.          0.          1.        ]\n",
      " ..., \n",
      " [ 0.15        0.15        0.25       ...,  0.2         0.3         0.8       ]\n",
      " [ 0.5         0.68518519  0.60925926 ...,  0.67962963  0.42592593\n",
      "   0.46481481]\n",
      " [ 0.11111111  0.11111111  0.         ...,  0.11111111  0.          0.        ]]\n",
      "(17, 5000)\n"
     ]
    }
   ],
   "source": [
    "import numpy as np\n",
    "# ignore churned column\n",
    "x_cols = [x for x in data.columns if x != 'churned']\n",
    "\n",
    "X_data = np.array([data_array[x].flatten() for x in x_cols])\n",
    "y_data = data_array['churned'].flatten()\n",
    "\n",
    "print(X_data.shape)\n",
    "\n",
    "X_data = np.swapaxes(X_data, 0, 1)"
   ]
  },
  {
   "cell_type": "code",
   "execution_count": 58,
   "metadata": {},
   "outputs": [
    {
     "name": "stderr",
     "output_type": "stream",
     "text": [
      "C:\\Users\\StiphanieMaradaSilva\\Anaconda3\\lib\\site-packages\\ipykernel_launcher.py:5: DataConversionWarning: A column-vector y was passed when a 1d array was expected. Please change the shape of y to (n_samples, ), for example using ravel().\n",
      "  \"\"\"\n"
     ]
    }
   ],
   "source": [
    "from sklearn.neighbors import KNeighborsClassifier\n",
    "model = KNeighborsClassifier(n_neighbors=3)\n",
    "features = np.reshape(y_data, (-1, 1))\n",
    "\n",
    "model.fit(X_data, features)\n",
    "predict = model.predict(X_data)\n"
   ]
  },
  {
   "cell_type": "markdown",
   "metadata": {},
   "source": [
    "## Exercício 4\n",
    "\n",
    "Ainda não ensinamos formas de medir o erro, mas a acurácia é um conceito simples de entender--é a porcentagem de rótulos que foram corretamente classificados:\n",
    "\n",
    "$acc = \\frac{corretos}{total}$\n",
    "\n",
    "* Escreva uma função para calcular a acurácia usando os rótulos verdadeiros e os preditos.\n",
    "* Usando a função, calcule a acurácia do K-nn nos dados."
   ]
  },
  {
   "cell_type": "code",
   "execution_count": 60,
   "metadata": {},
   "outputs": [
    {
     "name": "stdout",
     "output_type": "stream",
     "text": [
      "0.9422\n"
     ]
    }
   ],
   "source": [
    "from sklearn.metrics import confusion_matrix    \n",
    "\n",
    "def accuracy(real, predict):\n",
    "    confusion = confusion_matrix(real, predict)\n",
    "    correct = confusion[0,0] + confusion[1,1]\n",
    "    wrong = confusion[0,1] + confusion[1,0]\n",
    "    return correct / (correct + wrong)\n",
    "    pass # substitua pelo código\n",
    "print(accuracy(data['churned'], predict))"
   ]
  },
  {
   "cell_type": "markdown",
   "metadata": {},
   "source": [
    "## Exercício 5\n",
    "\n",
    "* Repita a aplicação do modelo K-nearest neighbors mas com o parâmetro `weights=distance`. Calcule a acurácia da função criada por você.\n",
    "* Repita a aplicação do modelo com `n_neighbors=3`, `weights=uniform` e `p=1` para utilizar a distância de Manhattan. Verifique os resultados.\n",
    "\n",
    "Quando as distâncias ponderadas são utilizadas para a parte 1 dessa questão, vocês obterão acurácia de 1.0. Por que isso ocorre? *Dica:* o KNN usa diretamente os dados para fazer a predição."
   ]
  },
  {
   "cell_type": "code",
   "execution_count": null,
   "metadata": {
    "collapsed": true
   },
   "outputs": [],
   "source": []
  },
  {
   "cell_type": "markdown",
   "metadata": {},
   "source": [
    "## Exercício 6\n",
    "\n",
    "* Teste o modelo KNN utilizando valores de `n_neighbors` na faixa de 1 a 20. Deixe o restante dos parâmetros como o padrão. Armazene os valores de vizinhos e acurácia em uma lista no formato [(k, acuracia)].\n",
    "* Plote um gráfico do tipo *scatter* da acurácia vs vizinhos. O que acontece com `n_neighbors=1`? Por que isso ocorre?"
   ]
  },
  {
   "cell_type": "code",
   "execution_count": 15,
   "metadata": {
    "collapsed": true
   },
   "outputs": [],
   "source": [
    "score_list = list()\n",
    "\n",
    "'''escreva no bloco abaixo'''\n",
    "\n",
    "\n",
    "\n",
    "\n",
    "\n",
    "\n",
    "\n",
    "\n",
    "'''fim do código'''\n",
    "\n",
    "score_df = pd.DataFrame(score_list, columns=['k', 'accuracy'])"
   ]
  },
  {
   "cell_type": "code",
   "execution_count": 16,
   "metadata": {
    "collapsed": true
   },
   "outputs": [],
   "source": [
    "# Import libraries to make the plot\n",
    "\n",
    "import matplotlib.pyplot as plt\n",
    "import seaborn as sns\n",
    "\n",
    "%matplotlib inline"
   ]
  },
  {
   "cell_type": "code",
   "execution_count": 17,
   "metadata": {},
   "outputs": [
    {
     "ename": "TypeError",
     "evalue": "Empty 'DataFrame': no numeric data to plot",
     "output_type": "error",
     "traceback": [
      "\u001b[1;31m---------------------------------------------------------------------------\u001b[0m",
      "\u001b[1;31mTypeError\u001b[0m                                 Traceback (most recent call last)",
      "\u001b[1;32m<ipython-input-17-bd465e79e266>\u001b[0m in \u001b[0;36m<module>\u001b[1;34m()\u001b[0m\n\u001b[0;32m      3\u001b[0m \u001b[0msns\u001b[0m\u001b[1;33m.\u001b[0m\u001b[0mset_palette\u001b[0m\u001b[1;33m(\u001b[0m\u001b[1;34m'dark'\u001b[0m\u001b[1;33m)\u001b[0m\u001b[1;33m\u001b[0m\u001b[0m\n\u001b[0;32m      4\u001b[0m \u001b[1;33m\u001b[0m\u001b[0m\n\u001b[1;32m----> 5\u001b[1;33m \u001b[0max\u001b[0m \u001b[1;33m=\u001b[0m \u001b[0mscore_df\u001b[0m\u001b[1;33m.\u001b[0m\u001b[0mset_index\u001b[0m\u001b[1;33m(\u001b[0m\u001b[1;34m'k'\u001b[0m\u001b[1;33m)\u001b[0m\u001b[1;33m.\u001b[0m\u001b[0mplot\u001b[0m\u001b[1;33m(\u001b[0m\u001b[1;33m)\u001b[0m\u001b[1;33m\u001b[0m\u001b[0m\n\u001b[0m\u001b[0;32m      6\u001b[0m \u001b[1;33m\u001b[0m\u001b[0m\n\u001b[0;32m      7\u001b[0m \u001b[0max\u001b[0m\u001b[1;33m.\u001b[0m\u001b[0mset\u001b[0m\u001b[1;33m(\u001b[0m\u001b[0mxlabel\u001b[0m\u001b[1;33m=\u001b[0m\u001b[1;34m'k'\u001b[0m\u001b[1;33m,\u001b[0m \u001b[0mylabel\u001b[0m\u001b[1;33m=\u001b[0m\u001b[1;34m'accuracy'\u001b[0m\u001b[1;33m)\u001b[0m\u001b[1;33m\u001b[0m\u001b[0m\n",
      "\u001b[1;32m~\\Anaconda3\\lib\\site-packages\\pandas\\plotting\\_core.py\u001b[0m in \u001b[0;36m__call__\u001b[1;34m(self, x, y, kind, ax, subplots, sharex, sharey, layout, figsize, use_index, title, grid, legend, style, logx, logy, loglog, xticks, yticks, xlim, ylim, rot, fontsize, colormap, table, yerr, xerr, secondary_y, sort_columns, **kwds)\u001b[0m\n\u001b[0;32m   2625\u001b[0m                           \u001b[0mfontsize\u001b[0m\u001b[1;33m=\u001b[0m\u001b[0mfontsize\u001b[0m\u001b[1;33m,\u001b[0m \u001b[0mcolormap\u001b[0m\u001b[1;33m=\u001b[0m\u001b[0mcolormap\u001b[0m\u001b[1;33m,\u001b[0m \u001b[0mtable\u001b[0m\u001b[1;33m=\u001b[0m\u001b[0mtable\u001b[0m\u001b[1;33m,\u001b[0m\u001b[1;33m\u001b[0m\u001b[0m\n\u001b[0;32m   2626\u001b[0m                           \u001b[0myerr\u001b[0m\u001b[1;33m=\u001b[0m\u001b[0myerr\u001b[0m\u001b[1;33m,\u001b[0m \u001b[0mxerr\u001b[0m\u001b[1;33m=\u001b[0m\u001b[0mxerr\u001b[0m\u001b[1;33m,\u001b[0m \u001b[0msecondary_y\u001b[0m\u001b[1;33m=\u001b[0m\u001b[0msecondary_y\u001b[0m\u001b[1;33m,\u001b[0m\u001b[1;33m\u001b[0m\u001b[0m\n\u001b[1;32m-> 2627\u001b[1;33m                           sort_columns=sort_columns, **kwds)\n\u001b[0m\u001b[0;32m   2628\u001b[0m     \u001b[0m__call__\u001b[0m\u001b[1;33m.\u001b[0m\u001b[0m__doc__\u001b[0m \u001b[1;33m=\u001b[0m \u001b[0mplot_frame\u001b[0m\u001b[1;33m.\u001b[0m\u001b[0m__doc__\u001b[0m\u001b[1;33m\u001b[0m\u001b[0m\n\u001b[0;32m   2629\u001b[0m \u001b[1;33m\u001b[0m\u001b[0m\n",
      "\u001b[1;32m~\\Anaconda3\\lib\\site-packages\\pandas\\plotting\\_core.py\u001b[0m in \u001b[0;36mplot_frame\u001b[1;34m(data, x, y, kind, ax, subplots, sharex, sharey, layout, figsize, use_index, title, grid, legend, style, logx, logy, loglog, xticks, yticks, xlim, ylim, rot, fontsize, colormap, table, yerr, xerr, secondary_y, sort_columns, **kwds)\u001b[0m\n\u001b[0;32m   1867\u001b[0m                  \u001b[0myerr\u001b[0m\u001b[1;33m=\u001b[0m\u001b[0myerr\u001b[0m\u001b[1;33m,\u001b[0m \u001b[0mxerr\u001b[0m\u001b[1;33m=\u001b[0m\u001b[0mxerr\u001b[0m\u001b[1;33m,\u001b[0m\u001b[1;33m\u001b[0m\u001b[0m\n\u001b[0;32m   1868\u001b[0m                  \u001b[0msecondary_y\u001b[0m\u001b[1;33m=\u001b[0m\u001b[0msecondary_y\u001b[0m\u001b[1;33m,\u001b[0m \u001b[0msort_columns\u001b[0m\u001b[1;33m=\u001b[0m\u001b[0msort_columns\u001b[0m\u001b[1;33m,\u001b[0m\u001b[1;33m\u001b[0m\u001b[0m\n\u001b[1;32m-> 1869\u001b[1;33m                  **kwds)\n\u001b[0m\u001b[0;32m   1870\u001b[0m \u001b[1;33m\u001b[0m\u001b[0m\n\u001b[0;32m   1871\u001b[0m \u001b[1;33m\u001b[0m\u001b[0m\n",
      "\u001b[1;32m~\\Anaconda3\\lib\\site-packages\\pandas\\plotting\\_core.py\u001b[0m in \u001b[0;36m_plot\u001b[1;34m(data, x, y, subplots, ax, kind, **kwds)\u001b[0m\n\u001b[0;32m   1692\u001b[0m         \u001b[0mplot_obj\u001b[0m \u001b[1;33m=\u001b[0m \u001b[0mklass\u001b[0m\u001b[1;33m(\u001b[0m\u001b[0mdata\u001b[0m\u001b[1;33m,\u001b[0m \u001b[0msubplots\u001b[0m\u001b[1;33m=\u001b[0m\u001b[0msubplots\u001b[0m\u001b[1;33m,\u001b[0m \u001b[0max\u001b[0m\u001b[1;33m=\u001b[0m\u001b[0max\u001b[0m\u001b[1;33m,\u001b[0m \u001b[0mkind\u001b[0m\u001b[1;33m=\u001b[0m\u001b[0mkind\u001b[0m\u001b[1;33m,\u001b[0m \u001b[1;33m**\u001b[0m\u001b[0mkwds\u001b[0m\u001b[1;33m)\u001b[0m\u001b[1;33m\u001b[0m\u001b[0m\n\u001b[0;32m   1693\u001b[0m \u001b[1;33m\u001b[0m\u001b[0m\n\u001b[1;32m-> 1694\u001b[1;33m     \u001b[0mplot_obj\u001b[0m\u001b[1;33m.\u001b[0m\u001b[0mgenerate\u001b[0m\u001b[1;33m(\u001b[0m\u001b[1;33m)\u001b[0m\u001b[1;33m\u001b[0m\u001b[0m\n\u001b[0m\u001b[0;32m   1695\u001b[0m     \u001b[0mplot_obj\u001b[0m\u001b[1;33m.\u001b[0m\u001b[0mdraw\u001b[0m\u001b[1;33m(\u001b[0m\u001b[1;33m)\u001b[0m\u001b[1;33m\u001b[0m\u001b[0m\n\u001b[0;32m   1696\u001b[0m     \u001b[1;32mreturn\u001b[0m \u001b[0mplot_obj\u001b[0m\u001b[1;33m.\u001b[0m\u001b[0mresult\u001b[0m\u001b[1;33m\u001b[0m\u001b[0m\n",
      "\u001b[1;32m~\\Anaconda3\\lib\\site-packages\\pandas\\plotting\\_core.py\u001b[0m in \u001b[0;36mgenerate\u001b[1;34m(self)\u001b[0m\n\u001b[0;32m    241\u001b[0m     \u001b[1;32mdef\u001b[0m \u001b[0mgenerate\u001b[0m\u001b[1;33m(\u001b[0m\u001b[0mself\u001b[0m\u001b[1;33m)\u001b[0m\u001b[1;33m:\u001b[0m\u001b[1;33m\u001b[0m\u001b[0m\n\u001b[0;32m    242\u001b[0m         \u001b[0mself\u001b[0m\u001b[1;33m.\u001b[0m\u001b[0m_args_adjust\u001b[0m\u001b[1;33m(\u001b[0m\u001b[1;33m)\u001b[0m\u001b[1;33m\u001b[0m\u001b[0m\n\u001b[1;32m--> 243\u001b[1;33m         \u001b[0mself\u001b[0m\u001b[1;33m.\u001b[0m\u001b[0m_compute_plot_data\u001b[0m\u001b[1;33m(\u001b[0m\u001b[1;33m)\u001b[0m\u001b[1;33m\u001b[0m\u001b[0m\n\u001b[0m\u001b[0;32m    244\u001b[0m         \u001b[0mself\u001b[0m\u001b[1;33m.\u001b[0m\u001b[0m_setup_subplots\u001b[0m\u001b[1;33m(\u001b[0m\u001b[1;33m)\u001b[0m\u001b[1;33m\u001b[0m\u001b[0m\n\u001b[0;32m    245\u001b[0m         \u001b[0mself\u001b[0m\u001b[1;33m.\u001b[0m\u001b[0m_make_plot\u001b[0m\u001b[1;33m(\u001b[0m\u001b[1;33m)\u001b[0m\u001b[1;33m\u001b[0m\u001b[0m\n",
      "\u001b[1;32m~\\Anaconda3\\lib\\site-packages\\pandas\\plotting\\_core.py\u001b[0m in \u001b[0;36m_compute_plot_data\u001b[1;34m(self)\u001b[0m\n\u001b[0;32m    350\u001b[0m         \u001b[1;32mif\u001b[0m \u001b[0mis_empty\u001b[0m\u001b[1;33m:\u001b[0m\u001b[1;33m\u001b[0m\u001b[0m\n\u001b[0;32m    351\u001b[0m             raise TypeError('Empty {0!r}: no numeric data to '\n\u001b[1;32m--> 352\u001b[1;33m                             'plot'.format(numeric_data.__class__.__name__))\n\u001b[0m\u001b[0;32m    353\u001b[0m \u001b[1;33m\u001b[0m\u001b[0m\n\u001b[0;32m    354\u001b[0m         \u001b[0mself\u001b[0m\u001b[1;33m.\u001b[0m\u001b[0mdata\u001b[0m \u001b[1;33m=\u001b[0m \u001b[0mnumeric_data\u001b[0m\u001b[1;33m\u001b[0m\u001b[0m\n",
      "\u001b[1;31mTypeError\u001b[0m: Empty 'DataFrame': no numeric data to plot"
     ]
    }
   ],
   "source": [
    "sns.set_context('talk')\n",
    "sns.set_style('ticks')\n",
    "sns.set_palette('dark')\n",
    "\n",
    "ax = score_df.set_index('k').plot()\n",
    "\n",
    "ax.set(xlabel='k', ylabel='accuracy')\n",
    "ax.set_xticks(range(1, 21));"
   ]
  },
  {
   "cell_type": "code",
   "execution_count": null,
   "metadata": {
    "collapsed": true
   },
   "outputs": [],
   "source": []
  }
 ],
 "metadata": {
  "anaconda-cloud": {},
  "kernelspec": {
   "display_name": "Python 3",
   "language": "python",
   "name": "python3"
  },
  "language_info": {
   "codemirror_mode": {
    "name": "ipython",
    "version": 3
   },
   "file_extension": ".py",
   "mimetype": "text/x-python",
   "name": "python",
   "nbconvert_exporter": "python",
   "pygments_lexer": "ipython3",
   "version": "3.6.3"
  },
  "name": "Linear_Regression_and_K_Nearest_Neighbors_Exercises-ANSWERS",
  "notebookId": 2125319687183902
 },
 "nbformat": 4,
 "nbformat_minor": 1
}
